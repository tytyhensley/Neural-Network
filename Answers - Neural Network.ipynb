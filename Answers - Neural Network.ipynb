{
 "cells": [
  {
   "cell_type": "markdown",
   "metadata": {},
   "source": [
    "# Neural Network from Scratch\n",
    "\n",
    "## Import libraries\n",
    "\n",
    "We will be using the lower resolution MINST data set\n",
    "\n",
    "### References\n",
    "Project 6 lecture slides"
   ]
  },
  {
   "cell_type": "code",
   "execution_count": 39,
   "metadata": {},
   "outputs": [],
   "source": [
    "from sklearn.datasets import load_digits # The MNIST data set is in scikit learn data set\n",
    "from sklearn.preprocessing import StandardScaler  # It is important in neural networks to scale the date\n",
    "from sklearn.model_selection import train_test_split  # The standard - train/test to prevent overfitting and choose hyperparameters\n",
    "from sklearn.metrics import accuracy_score # \n",
    "import numpy as np\n",
    "import numpy.random as r # We will randomly initialize our weights\n",
    "import matplotlib.pyplot as plt "
   ]
  },
  {
   "cell_type": "markdown",
   "metadata": {},
   "source": [
    "## Looking at the data\n",
    "\n",
    "After we load the data, we print the shape of the data and a pixelated digit.\n",
    "\n",
    "We also show what the features of one example looks like.\n",
    "\n",
    "The neural net will learn to estimate which digit these pixels represent."
   ]
  },
  {
   "cell_type": "code",
   "execution_count": 40,
   "metadata": {},
   "outputs": [
    {
     "name": "stdout",
     "output_type": "stream",
     "text": [
      "The shape of the digits dataset:\n",
      "(1797, 64)\n"
     ]
    },
    {
     "data": {
      "text/plain": [
       "<Figure size 432x288 with 0 Axes>"
      ]
     },
     "metadata": {},
     "output_type": "display_data"
    },
    {
     "data": {
      "image/png": "[encoded data removed]",
      "text/plain": [
       "<Figure size 288x288 with 1 Axes>"
      ]
     },
     "metadata": {
      "needs_background": "light"
     },
     "output_type": "display_data"
    },
    {
     "name": "stdout",
     "output_type": "stream",
     "text": [
      "[0]\n",
      "[ 0.  0.  5. 13.  9.  1.  0.  0.  0.  0. 13. 15. 10. 15.  5.  0.  0.  3.\n",
      " 15.  2.  0. 11.  8.  0.  0.  4. 12.  0.  0.  8.  8.  0.  0.  5.  8.  0.\n",
      "  0.  9.  8.  0.  0.  4. 11.  0.  1. 12.  7.  0.  0.  2. 14.  5. 10. 12.\n",
      "  0.  0.  0.  0.  6. 13. 10.  0.  0.  0.]\n"
     ]
    }
   ],
   "source": [
    "# load all the digits (img)\n",
    "digits = load_digits()\n",
    "\n",
    "# load the data from the digit (img)\n",
    "X = digits.data\n",
    "y = digits.target\n",
    "\n",
    "print(\"The shape of the digits dataset:\") \n",
    "print(digits.data.shape)\n",
    "\n",
    "# plot the digits\n",
    "# using .gray()\n",
    "plt.gray()\n",
    "\n",
    "# and .matshow() with argument digit.images[xx]\n",
    "plt.matshow(digits.images[0])\n",
    "\n",
    "# plt.show()\n",
    "plt.show()\n",
    "# get the gt for this digit img\n",
    "\n",
    "print(y[0:1])\n",
    "print(X[0,:])"
   ]
  },
  {
   "cell_type": "markdown",
   "metadata": {},
   "source": [
    "## 1) Scale the dataset\n",
    "The training features range from 0 to 15.  To help the algorithm converge, we will scale the data to have a mean of 0 and unit variance"
   ]
  },
  {
   "cell_type": "code",
   "execution_count": 289,
   "metadata": {},
   "outputs": [
    {
     "name": "stdout",
     "output_type": "stream",
     "text": [
      "[[ 0.         -0.33501649 -0.04308102 ... -1.14664746 -0.5056698\n",
      "  -0.19600752]\n",
      " [ 0.         -0.33501649 -1.09493684 ...  0.54856067 -0.5056698\n",
      "  -0.19600752]\n",
      " [ 0.         -0.33501649 -1.09493684 ...  1.56568555  1.6951369\n",
      "  -0.19600752]\n",
      " ...\n",
      " [ 0.         -0.33501649 -0.88456568 ... -0.12952258 -0.5056698\n",
      "  -0.19600752]\n",
      " [ 0.         -0.33501649 -0.67419451 ...  0.8876023  -0.5056698\n",
      "  -0.19600752]\n",
      " [ 0.         -0.33501649  1.00877481 ...  0.8876023  -0.26113572\n",
      "  -0.19600752]]\n"
     ]
    }
   ],
   "source": [
    "# use the stander lib to scale the data\n",
    "# init the scaler \n",
    "scaler = StandardScaler()\n",
    "\n",
    "# fit the data to the scaler \n",
    "# Looking the new features after scaling\n",
    "\n",
    "X = scaler.fit_transform(X)\n",
    "print(X)"
   ]
  },
  {
   "cell_type": "markdown",
   "metadata": {},
   "source": [
    "## 2) Creating training and test datasets\n",
    "We split the data into training and test data sets. We will train the neural network with the training dataset, and evaluate our neural network with the test dataset "
   ]
  },
  {
   "cell_type": "code",
   "execution_count": 282,
   "metadata": {},
   "outputs": [],
   "source": [
    "#Split the data into training and test set.  60% training and %40 test\n",
    "X_train, X_test, y_train, y_test = train_test_split(X, y, train_size = 0.6,test_size = 0.4)"
   ]
  },
  {
   "cell_type": "markdown",
   "metadata": {},
   "source": [
    "## 3) Setting up the output layer\n",
    "\n",
    "### One hot encoding"
   ]
  },
  {
   "cell_type": "code",
   "execution_count": 43,
   "metadata": {},
   "outputs": [],
   "source": [
    "def convert_y_to_vect(y):\n",
    "#     Our target is an integer in the range [0,..,9], so we will have 10 output neuron's in our network.  \n",
    "\n",
    "#     If  y=0 we want the output neurons to have the values (1,0,0,0,0,0,0,0,0,0)\n",
    "#     If  y=1 we want the output neurons to have the values (0,1,0,0,0,0,0,0,0,0)\n",
    "#     etc\n",
    "\n",
    "#     Thus we need to change our target so it is the same as our hoped for output of the neural network. \n",
    "\n",
    "#     If y=0$we change it into the vector (1,0,0,0,0,0,0,0,0,0)\n",
    "#     If y=1 we change it into the vector (0,1,0,0,0,0,0,0,0,0)\n",
    "#     etc\n",
    "\n",
    "#     The code to covert the target vector.\n",
    "    y_vect = np.zeros((len(y), 10))\n",
    "    for i in range(len(y)):\n",
    "        y_vect[i, y[i]] = 1\n",
    "        \n",
    "    return y_vect"
   ]
  },
  {
   "cell_type": "markdown",
   "metadata": {},
   "source": [
    "Converting the training and test targets to vectors "
   ]
  },
  {
   "cell_type": "code",
   "execution_count": 287,
   "metadata": {},
   "outputs": [],
   "source": [
    "# convert digits to vectors using the func above\n",
    "# appky this to both train and test splits\n",
    "\n",
    "y_v_train = convert_y_to_vect(y_train)\n",
    "y_v_test = convert_y_to_vect(y_test)"
   ]
  },
  {
   "cell_type": "markdown",
   "metadata": {},
   "source": [
    "A quick check to see that our code performs as we expect "
   ]
  },
  {
   "cell_type": "code",
   "execution_count": 288,
   "metadata": {},
   "outputs": [
    {
     "name": "stdout",
     "output_type": "stream",
     "text": [
      "[7 9 4 4]\n",
      "[[0. 0. 0. 0. 0. 0. 0. 1. 0. 0.]\n",
      " [0. 0. 0. 0. 0. 0. 0. 0. 0. 1.]\n",
      " [0. 0. 0. 0. 1. 0. 0. 0. 0. 0.]\n",
      " [0. 0. 0. 0. 1. 0. 0. 0. 0. 0.]]\n"
     ]
    }
   ],
   "source": [
    "print(y_train[0:4])\n",
    "print(y_v_train[0:4])"
   ]
  },
  {
   "cell_type": "markdown",
   "metadata": {},
   "source": [
    "## 4) Creating the neural network\n",
    "\n",
    "### The activation function and its derivative"
   ]
  },
  {
   "cell_type": "code",
   "execution_count": 300,
   "metadata": {},
   "outputs": [],
   "source": [
    "# We will use the sigmoid activation function:  f(z)={1}/{1+e^{-z}}\n",
    "def f(z):\n",
    "    return 1 / (1 + np.exp(-z))\n",
    "\n",
    "# The deriviative of the sigmoid function is: $f'(z) = f(z)(1-f(z))$ \n",
    "def f_deriv(z):\n",
    "    return f(z) * (1 - f(z))"
   ]
  },
  {
   "cell_type": "markdown",
   "metadata": {},
   "source": [
    "### Creating and initialing W and b"
   ]
  },
  {
   "cell_type": "code",
   "execution_count": 311,
   "metadata": {},
   "outputs": [],
   "source": [
    "def setup_and_init_weights(nn_structure):\n",
    "    # The weights in W are different so that during back propagation the nodes on a level will have different gradients and thus have different update values.\n",
    "    #creating a dictionary for wiehgts i.e. a set of key: value pairs\n",
    "    W = {}\n",
    "    #creating a dictionary for bias i.e. a set of key: value pairs\n",
    "    b = {}\n",
    "    for i in range(1, len(nn_structure)):\n",
    "        # We want the weights to be small values, since the sigmoid is almost \"flat\" for large inputs.\n",
    "        # Next is the code that assigns each weight a number uniformly drawn from $[0.0, 1.0)$.  \n",
    "        # The code assumes that the number of neurons in each level is in the python list *nn_structure*.\n",
    "        # .random_sample return “continuous uniform” random floats in the half-open interval [0.0, 1.0). \n",
    "        W[i] = r.random_sample((nn_structure[i], nn_structure[i-1]))\n",
    "        b[i] = r.random_sample((nn_structure[i],))\n",
    "    # Return weight and b\n",
    "    return W, b"
   ]
  },
  {
   "cell_type": "markdown",
   "metadata": {},
   "source": [
    "### Initializing $\\triangledown W$ and $\\triangledown b$"
   ]
  },
  {
   "cell_type": "code",
   "execution_count": 320,
   "metadata": {},
   "outputs": [],
   "source": [
    "def init_tri_values(nn_structure):\n",
    "    # Creating dlt_W and dlt_b to have the same size as W and b,and init the dlt_W, and dlt_b to 0\n",
    "    dlt_W = {}\n",
    "    dlt_b = {}\n",
    "    \n",
    "    # use for loop to init the dlt W and dlt b\n",
    "    for i in range(1, len(nn_structure)):\n",
    "        # you can use np.zeros\n",
    "        dlt_W[i] = np.zeros((nn_structure[i], nn_structure[i-1]))\n",
    "        dlt_b[i] = np.zeros((nn_structure[i],))\n",
    "    return dlt_W, dlt_b"
   ]
  },
  {
   "cell_type": "markdown",
   "metadata": {},
   "source": [
    "## Feed forward\n",
    "Perform a forward pass throught the network.  The function returns the values of $a$ and $z$"
   ]
  },
  {
   "cell_type": "code",
   "execution_count": 328,
   "metadata": {},
   "outputs": [],
   "source": [
    "def feed_forward(x, W, b):\n",
    "    # create a dictionary for holding the a values for all levels\n",
    "    a = {}\n",
    "    \n",
    "    # create a dictionary for holding the z values for all the layers\n",
    "    z = {}\n",
    "    \n",
    "    # for each layer\n",
    "    a[1] = x\n",
    "    for i in range(1, len(W)+1): #checking if i =  1 so that the dot product can be with x, to avoid error otherwise\n",
    "        if i == 1:\n",
    "            z[i+1] =np.dot(W[i],x) + b[i]\n",
    "        else:\n",
    "        # z^(l+1) = W^(l)*a^(l) + b^(l)\n",
    "            z[i+1] =np.dot(W[i],a[i]) + b[i]\n",
    "        \n",
    "        # a^(l+1) = f(z^(l+1))\n",
    "        a[i+1] = f(z[i+1])\n",
    "        \n",
    "    return a, z"
   ]
  },
  {
   "cell_type": "markdown",
   "metadata": {},
   "source": [
    "## Compute $\\delta$\n",
    "compute $\\delta^{(s_l)}$ in a function called \"calculate_out_layer_delta\",  and  computes $\\delta^{(\\ell)}$ for the hidden layers in the function called \"calculate_hidden_delta\".  \n"
   ]
  },
  {
   "cell_type": "code",
   "execution_count": 307,
   "metadata": {},
   "outputs": [],
   "source": [
    "def calculate_out_layer_delta(y, a_out, z_out):\n",
    "    # delta^(nl) = -(y_i - a_i^(nl)) * f'(z_i^(nl))\n",
    "    return -(y-a_out) *f_deriv(z_out)\n",
    "\n",
    "\n",
    "def calculate_hidden_delta(delta_plus_1, w_l, z_l):\n",
    "    # delta^(l) = (transpose(W^(l)) * delta^(l+1)) * f'(z^(l))\n",
    "    return np.dot(w_l.T,delta_plus_1) * f_deriv(z_l)"
   ]
  },
  {
   "cell_type": "markdown",
   "metadata": {},
   "source": [
    "## The Back Propagation Algorithm"
   ]
  },
  {
   "cell_type": "code",
   "execution_count": 348,
   "metadata": {},
   "outputs": [],
   "source": [
    "def train_nn(nn_structure, X, y, iter_num=3000, alpha=0.25):\n",
    "    # init W and b\n",
    "    W, b = setup_and_init_weights(nn_structure)\n",
    "   \n",
    "    # init counter to 0\n",
    "    count = 0\n",
    "    \n",
    "    # store the length of data\n",
    "    N = len(X)\n",
    "    \n",
    "    # init a list to store the all costs\n",
    "    costs = []\n",
    "    \n",
    "    print('Starting gradient descent for {} iterations'.format(iter_num))\n",
    "    # while the counter is less than the max iterations:\n",
    "    while count < iter_num:\n",
    "        # print the iteration number for every 1000 iter\n",
    "        if (count % 1000 == 0) :\n",
    "            print(\"Iteration #: \", count)\n",
    "        \n",
    "        # init delt_W and delt_b\n",
    "        dlt_W, dlt_b = init_tri_values(nn_structure)\n",
    "        \n",
    "        # init the cost to 0\n",
    "        cost = 0\n",
    "        # for each data:\n",
    "        for i in range(N):\n",
    "            delta={}\n",
    "            # perform the feed forward pass and return the stored a and z values, to be used in the\n",
    "            # gradient descent step\n",
    "            y_row = y[i, :] #getting each row of X and y\n",
    "            X_row = X[i, :]\n",
    "            \n",
    "            a, z = feed_forward(X_row, W, b)\n",
    "            \n",
    "            # loop from nl-1 to 1 backpropagating the errors\n",
    "            for l in range(len(nn_structure), 0, -1):\n",
    "                if l == len(nn_structure):\n",
    "                    delta[l] = calculate_out_layer_delta(y_row, a[l], z[l])\n",
    "                    cost += np.sum((y_row-a[l])**2) #formula for calculating mean squared error given by project lecture\n",
    "                else:\n",
    "                    if l >1: #ensures that this function only happens when the first delta entry has been filled\n",
    "                        delta[l] = calculate_hidden_delta(delta[l+1], W[l], z[l])\n",
    "                        \n",
    "                    # triW^(l) = triW^(l) + delta^(l+1) * transpose(a^(l))\n",
    "                        # hit: you can use np.newaxis to increase the number of dimensions\n",
    "                    dlt_W[l] += np.dot(delta[l+1][:, np.newaxis],a[l][:, np.newaxis].T)\n",
    "                \n",
    "                    # trib^(l) = trib^(l) + delta^(l+1)\n",
    "                    dlt_b[l] += delta[l+1]\n",
    "                \n",
    "        # perform the gradient descent step for the weights in each layer\n",
    "        for j in range (len(nn_structure) - 1, 0, -1): #finding the difference in errors and doing the back propogation\n",
    "            W[j] = W[j] - (alpha*dlt_W[j]/N) \n",
    "            b[j] = b[j] - (alpha*dlt_b[j]/N)\n",
    "        \n",
    "        \n",
    "        # complete the average cost (mean squared error) calculation\n",
    "        cost = cost/N\n",
    "        \n",
    "        # append the cost to the cost list\n",
    "        costs.append(cost)\n",
    "        \n",
    "        # increase the counter \n",
    "        count += 1\n",
    "    return b, W, costs"
   ]
  },
  {
   "cell_type": "code",
   "execution_count": 334,
   "metadata": {},
   "outputs": [],
   "source": [
    "def predict_y(W, b, X, n_layers):\n",
    "    # store the length of data\n",
    "    N = X.shape[0]\n",
    "    \n",
    "    # init for prediction array\n",
    "    pred = np.zeros((N,))\n",
    "    \n",
    "    # for each data:\n",
    "    for i in range(N):\n",
    "        # feed forward\n",
    "        a, z = feed_forward(X[i,:],W,b,)\n",
    "        \n",
    "        # predict\n",
    "        pred[i] = np.argmax(a[n_layers]) #based on explanation given in project lecture\n",
    "        \n",
    "    return pred"
   ]
  },
  {
   "cell_type": "markdown",
   "metadata": {},
   "source": [
    "## Running the neural network\n",
    "\n",
    "Our code assumes the size of each layer in our network is held in a list.  The input layer will have 64 neurons (one for each pixel in our 8 by 8 pixelated digit).  Our hidden layer has 30 neurons (you can change this value).  The output layer has 10 neurons.\n",
    "\n",
    "Next we create the python list to hold the number of neurons for each level and then run the neural network code with our training data.\n",
    "\n",
    "This code will take some time..."
   ]
  },
  {
   "cell_type": "code",
   "execution_count": 349,
   "metadata": {},
   "outputs": [
    {
     "name": "stdout",
     "output_type": "stream",
     "text": [
      "Starting gradient descent for 3000 iterations\n",
      "Iteration #:  0\n",
      "Iteration #:  1000\n",
      "Iteration #:  2000\n"
     ]
    }
   ],
   "source": [
    "nn_structure = [64, 30, 10] \n",
    "\n",
    "# train the NN with the nn_structure and 3000 iterations\n",
    "b, W, costs = train_nn(nn_structure, X_train, y_v_train)"
   ]
  },
  {
   "cell_type": "markdown",
   "metadata": {},
   "source": [
    "### Plotting the learning curve"
   ]
  },
  {
   "cell_type": "code",
   "execution_count": 350,
   "metadata": {},
   "outputs": [
    {
     "data": {
      "image/png": "[encoded data removed]",
      "text/plain": [
       "<Figure size 432x288 with 1 Axes>"
      ]
     },
     "metadata": {
      "needs_background": "light"
     },
     "output_type": "display_data"
    }
   ],
   "source": [
    "# plot the avg_cost_func\n",
    "plt.plot(costs)\n",
    "\n",
    "# x label: \"Iteration number\"\n",
    "plt.xlabel('Iteration number')\n",
    "\n",
    "# y label: \"Average J\"\n",
    "plt.ylabel('Average J')\n",
    "\n",
    "plt.show()"
   ]
  },
  {
   "cell_type": "code",
   "execution_count": 351,
   "metadata": {},
   "outputs": [
    {
     "name": "stdout",
     "output_type": "stream",
     "text": [
      "Prediction accuracy is 89.56884561891516%\n"
     ]
    }
   ],
   "source": [
    "# get the prediction accuracy and print\n",
    "y_pred = predict_y(W, b, X_test, 3)\n",
    "print('Prediction accuracy is {}%'.format(accuracy_score(y_test, y_pred) * 100))"
   ]
  },
  {
   "cell_type": "markdown",
   "metadata": {},
   "source": [
    "## Running my own neural network\n",
    "\n",
    "Experimenting with my own hyper-parameters by changing the number of neurons the hidden layer has"
   ]
  },
  {
   "cell_type": "code",
   "execution_count": 352,
   "metadata": {},
   "outputs": [
    {
     "name": "stdout",
     "output_type": "stream",
     "text": [
      "Starting gradient descent for 3000 iterations\n",
      "Iteration #:  0\n",
      "Iteration #:  1000\n",
      "Iteration #:  2000\n"
     ]
    }
   ],
   "source": [
    "nn_structure = [64, 50, 10] \n",
    "\n",
    "# train the NN with the nn_structure and 3000 iterations\n",
    "b, W, costs = train_nn(nn_structure, X_train, y_v_train)"
   ]
  },
  {
   "cell_type": "code",
   "execution_count": 353,
   "metadata": {},
   "outputs": [
    {
     "data": {
      "image/png": "[encoded data removed]",
      "text/plain": [
       "<Figure size 432x288 with 1 Axes>"
      ]
     },
     "metadata": {
      "needs_background": "light"
     },
     "output_type": "display_data"
    }
   ],
   "source": [
    "# plot the avg_cost_func\n",
    "plt.plot(costs)\n",
    "\n",
    "# x label: \"Iteration number\"\n",
    "plt.xlabel('Iteration number')\n",
    "\n",
    "# y label: \"Average J\"\n",
    "plt.ylabel('Average J')\n",
    "\n",
    "plt.show()"
   ]
  },
  {
   "cell_type": "code",
   "execution_count": 354,
   "metadata": {},
   "outputs": [
    {
     "name": "stdout",
     "output_type": "stream",
     "text": [
      "Prediction accuracy is 89.4297635605007%\n"
     ]
    }
   ],
   "source": [
    "# get the prediction accuracy and print\n",
    "y_pred = predict_y(W, b, X_test, 3)\n",
    "print('Prediction accuracy is {}%'.format(accuracy_score(y_test, y_pred) * 100))"
   ]
  },
  {
   "cell_type": "markdown",
   "metadata": {},
   "source": [
    "### Discussion\n",
    "\n",
    "When comparing the neurl networks of different neuron numbers, those with a greater number of neurons took more iterations to adjust their weights to account for the errors betwen the predictions and the actual values. The accuracy is roughly the same with a minute difference between the two, hence the number of neurons does not affect the accuracy but only the time take for the sample to be fully trained witht the data so that accurate predictons can be made."
   ]
  },
  {
   "cell_type": "code",
   "execution_count": null,
   "metadata": {},
   "outputs": [],
   "source": []
  }
 ],
 "metadata": {
  "kernelspec": {
   "display_name": "Python 3",
   "language": "python",
   "name": "python3"
  },
  "language_info": {
   "codemirror_mode": {
    "name": "ipython",
    "version": 3
   },
   "file_extension": ".py",
   "mimetype": "text/x-python",
   "name": "python",
   "nbconvert_exporter": "python",
   "pygments_lexer": "ipython3",
   "version": "3.8.5"
  }
 },
 "nbformat": 4,
 "nbformat_minor": 4
}
